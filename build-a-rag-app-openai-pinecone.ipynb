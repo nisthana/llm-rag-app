{
 "cells": [
  {
   "cell_type": "markdown",
   "id": "88624244-d281-4112-bf56-f199680318c9",
   "metadata": {},
   "source": [
    "### Libraries needed for the notebook"
   ]
  },
  {
   "cell_type": "code",
   "execution_count": 12,
   "id": "0d3fec64-319c-4ccb-8b31-fcbf0111e4c5",
   "metadata": {},
   "outputs": [],
   "source": [
    "# pip install pandas - Library for reading and writing CSV files into data frames\n",
    "# pip install python-dotenv - Library to load environment variables such as API Keys\n",
    "# pip install openai - OpenAI library\n",
    "# pip install ast - Library for converting string to list\n",
    "# pip install pinecone-client - Pinecone library\n",
    "# pp install tdqm - For keeping track of upload progress"
   ]
  },
  {
   "cell_type": "markdown",
   "id": "4067b1c8-c5c1-45cf-9ad5-fe8d60350088",
   "metadata": {},
   "source": [
    "### Prepare the input for embedding"
   ]
  },
  {
   "cell_type": "markdown",
   "id": "04a580f9-e097-4ee0-9166-7579b9eff215",
   "metadata": {},
   "source": [
    "#### 1. Read the input CSV file"
   ]
  },
  {
   "cell_type": "code",
   "execution_count": 1,
   "id": "a62d7b49-f26b-45d7-9f87-b702f322a070",
   "metadata": {},
   "outputs": [
    {
     "data": {
      "text/html": [
       "<div>\n",
       "<style scoped>\n",
       "    .dataframe tbody tr th:only-of-type {\n",
       "        vertical-align: middle;\n",
       "    }\n",
       "\n",
       "    .dataframe tbody tr th {\n",
       "        vertical-align: top;\n",
       "    }\n",
       "\n",
       "    .dataframe thead th {\n",
       "        text-align: right;\n",
       "    }\n",
       "</style>\n",
       "<table border=\"1\" class=\"dataframe\">\n",
       "  <thead>\n",
       "    <tr style=\"text-align: right;\">\n",
       "      <th></th>\n",
       "      <th>Unnamed: 0</th>\n",
       "      <th>summary</th>\n",
       "      <th>title</th>\n",
       "      <th>text</th>\n",
       "    </tr>\n",
       "  </thead>\n",
       "  <tbody>\n",
       "    <tr>\n",
       "      <th>0</th>\n",
       "      <td>0</td>\n",
       "      <td>keep related supplies in the same area . make ...</td>\n",
       "      <td>how to be an organized artist 1</td>\n",
       "      <td>if youre a photographer , keep all the necessa...</td>\n",
       "    </tr>\n",
       "    <tr>\n",
       "      <th>1</th>\n",
       "      <td>1</td>\n",
       "      <td>create a sketch in the neopoprealist manner of...</td>\n",
       "      <td>how to create a neopoprealist art work</td>\n",
       "      <td>see the image for how this drawing develops st...</td>\n",
       "    </tr>\n",
       "  </tbody>\n",
       "</table>\n",
       "</div>"
      ],
      "text/plain": [
       "   Unnamed: 0                                            summary  \\\n",
       "0           0  keep related supplies in the same area . make ...   \n",
       "1           1  create a sketch in the neopoprealist manner of...   \n",
       "\n",
       "                                    title  \\\n",
       "0         how to be an organized artist 1   \n",
       "1  how to create a neopoprealist art work   \n",
       "\n",
       "                                                text  \n",
       "0  if youre a photographer , keep all the necessa...  \n",
       "1  see the image for how this drawing develops st...  "
      ]
     },
     "execution_count": 1,
     "metadata": {},
     "output_type": "execute_result"
    }
   ],
   "source": [
    "import pandas as pd\n",
    "\n",
    "df = pd.read_csv('./data/wikihow-cleaned-100-rows.csv')\n",
    "df.head(2)"
   ]
  },
  {
   "cell_type": "markdown",
   "id": "a2b5ee99-d1a6-41cf-932d-cf561482e4d3",
   "metadata": {},
   "source": [
    "#### 2. Rename the `Unnamed: 0` Column to `id`"
   ]
  },
  {
   "cell_type": "code",
   "execution_count": 2,
   "id": "06e78958-cf63-4a16-a73c-fde5dd10e47c",
   "metadata": {},
   "outputs": [
    {
     "data": {
      "text/html": [
       "<div>\n",
       "<style scoped>\n",
       "    .dataframe tbody tr th:only-of-type {\n",
       "        vertical-align: middle;\n",
       "    }\n",
       "\n",
       "    .dataframe tbody tr th {\n",
       "        vertical-align: top;\n",
       "    }\n",
       "\n",
       "    .dataframe thead th {\n",
       "        text-align: right;\n",
       "    }\n",
       "</style>\n",
       "<table border=\"1\" class=\"dataframe\">\n",
       "  <thead>\n",
       "    <tr style=\"text-align: right;\">\n",
       "      <th></th>\n",
       "      <th>id</th>\n",
       "      <th>summary</th>\n",
       "      <th>title</th>\n",
       "      <th>text</th>\n",
       "    </tr>\n",
       "  </thead>\n",
       "  <tbody>\n",
       "    <tr>\n",
       "      <th>0</th>\n",
       "      <td>0</td>\n",
       "      <td>keep related supplies in the same area . make ...</td>\n",
       "      <td>how to be an organized artist 1</td>\n",
       "      <td>if youre a photographer , keep all the necessa...</td>\n",
       "    </tr>\n",
       "    <tr>\n",
       "      <th>1</th>\n",
       "      <td>1</td>\n",
       "      <td>create a sketch in the neopoprealist manner of...</td>\n",
       "      <td>how to create a neopoprealist art work</td>\n",
       "      <td>see the image for how this drawing develops st...</td>\n",
       "    </tr>\n",
       "  </tbody>\n",
       "</table>\n",
       "</div>"
      ],
      "text/plain": [
       "   id                                            summary  \\\n",
       "0   0  keep related supplies in the same area . make ...   \n",
       "1   1  create a sketch in the neopoprealist manner of...   \n",
       "\n",
       "                                    title  \\\n",
       "0         how to be an organized artist 1   \n",
       "1  how to create a neopoprealist art work   \n",
       "\n",
       "                                                text  \n",
       "0  if youre a photographer , keep all the necessa...  \n",
       "1  see the image for how this drawing develops st...  "
      ]
     },
     "execution_count": 2,
     "metadata": {},
     "output_type": "execute_result"
    }
   ],
   "source": [
    "df.rename( columns={'Unnamed: 0':'id'}, inplace=True )\n",
    "df.head(2)"
   ]
  },
  {
   "cell_type": "markdown",
   "id": "97a30307-d900-46bf-bb03-7e494cf4fa73",
   "metadata": {},
   "source": [
    "#### 3. Check the data types of each column "
   ]
  },
  {
   "cell_type": "code",
   "execution_count": 3,
   "id": "eafc7c70-0061-4643-b8cf-d665ebdef312",
   "metadata": {},
   "outputs": [
    {
     "data": {
      "text/plain": [
       "id          int64\n",
       "summary    object\n",
       "title      object\n",
       "text       object\n",
       "dtype: object"
      ]
     },
     "execution_count": 3,
     "metadata": {},
     "output_type": "execute_result"
    }
   ],
   "source": [
    "df.dtypes"
   ]
  },
  {
   "cell_type": "markdown",
   "id": "d067005d-5e07-412b-9974-92e807544b2f",
   "metadata": {},
   "source": [
    "#### 4. change the id column from int to string as pinecone vector database accepts only strings and lists"
   ]
  },
  {
   "cell_type": "code",
   "execution_count": 4,
   "id": "184b158e-b8ac-4447-9297-ffa8fb5387f9",
   "metadata": {},
   "outputs": [
    {
     "data": {
      "text/plain": [
       "id         object\n",
       "summary    object\n",
       "title      object\n",
       "text       object\n",
       "dtype: object"
      ]
     },
     "execution_count": 4,
     "metadata": {},
     "output_type": "execute_result"
    }
   ],
   "source": [
    "df['id'] = df['id'].apply(str)\n",
    "df.dtypes"
   ]
  },
  {
   "cell_type": "markdown",
   "id": "ca82dab5-6ace-42b0-af58-acb69972268c",
   "metadata": {},
   "source": [
    "### Load environment variables and API keys"
   ]
  },
  {
   "cell_type": "code",
   "execution_count": 5,
   "id": "a25ac15f-876c-431a-b01f-5e1535134dff",
   "metadata": {},
   "outputs": [],
   "source": [
    "import os\n",
    "from dotenv import load_dotenv\n",
    "\n",
    "load_dotenv()\n",
    "\n",
    "OPENAI_API_KEY = os.getenv('OPENAI_API_KEY')\n",
    "PINECONE_API_KEY = os.getenv('PINECONE_API_KEY')"
   ]
  },
  {
   "cell_type": "markdown",
   "id": "b25a4c2f-4db5-4e09-9a76-357c1d633c72",
   "metadata": {},
   "source": [
    "### Embed using OpenAI `text-embedding-3-small` model with `1536` dimensions"
   ]
  },
  {
   "cell_type": "code",
   "execution_count": 6,
   "id": "b2fcc316-9dcc-479d-bd4e-5eda521afd6e",
   "metadata": {},
   "outputs": [],
   "source": [
    "from openai import OpenAI\n",
    "client = OpenAI(api_key=OPENAI_API_KEY)\n",
    "\n",
    "def get_embedding(text, model=\"text-embedding-3-small\"):\n",
    "   text = text.replace(\"\\n\", \" \")\n",
    "   return client.embeddings.create(input = [text], model=model).data[0].embedding\n",
    "\n",
    "\n",
    "df['text-embeddings'] = df.title.apply(lambda x: get_embedding(x, model='text-embedding-3-small'))\n",
    "df.to_csv('./data/embedded_100_wikihow.csv', index=False)"
   ]
  },
  {
   "cell_type": "markdown",
   "id": "edc6bd97-1e6a-430a-a954-bad643551db4",
   "metadata": {},
   "source": [
    "### Prepare the embeddings for uploading to pinecone"
   ]
  },
  {
   "cell_type": "markdown",
   "id": "43c182e7-3d0a-4177-aae5-005e7d522e4c",
   "metadata": {},
   "source": [
    "#### 1. Load the embeddings file that was created in previous step"
   ]
  },
  {
   "cell_type": "code",
   "execution_count": 7,
   "id": "8609b73e-4ea6-481a-9e23-5f065bc31fb0",
   "metadata": {},
   "outputs": [
    {
     "data": {
      "text/html": [
       "<div>\n",
       "<style scoped>\n",
       "    .dataframe tbody tr th:only-of-type {\n",
       "        vertical-align: middle;\n",
       "    }\n",
       "\n",
       "    .dataframe tbody tr th {\n",
       "        vertical-align: top;\n",
       "    }\n",
       "\n",
       "    .dataframe thead th {\n",
       "        text-align: right;\n",
       "    }\n",
       "</style>\n",
       "<table border=\"1\" class=\"dataframe\">\n",
       "  <thead>\n",
       "    <tr style=\"text-align: right;\">\n",
       "      <th></th>\n",
       "      <th>id</th>\n",
       "      <th>summary</th>\n",
       "      <th>title</th>\n",
       "      <th>text</th>\n",
       "      <th>text-embeddings</th>\n",
       "    </tr>\n",
       "  </thead>\n",
       "  <tbody>\n",
       "    <tr>\n",
       "      <th>0</th>\n",
       "      <td>0</td>\n",
       "      <td>keep related supplies in the same area . make ...</td>\n",
       "      <td>how to be an organized artist 1</td>\n",
       "      <td>if youre a photographer , keep all the necessa...</td>\n",
       "      <td>[0.01380640733987093, 0.0018019392155110836, 0...</td>\n",
       "    </tr>\n",
       "    <tr>\n",
       "      <th>1</th>\n",
       "      <td>1</td>\n",
       "      <td>create a sketch in the neopoprealist manner of...</td>\n",
       "      <td>how to create a neopoprealist art work</td>\n",
       "      <td>see the image for how this drawing develops st...</td>\n",
       "      <td>[0.016886457800865173, 0.04798700660467148, 0....</td>\n",
       "    </tr>\n",
       "  </tbody>\n",
       "</table>\n",
       "</div>"
      ],
      "text/plain": [
       "   id                                            summary  \\\n",
       "0   0  keep related supplies in the same area . make ...   \n",
       "1   1  create a sketch in the neopoprealist manner of...   \n",
       "\n",
       "                                    title  \\\n",
       "0         how to be an organized artist 1   \n",
       "1  how to create a neopoprealist art work   \n",
       "\n",
       "                                                text  \\\n",
       "0  if youre a photographer , keep all the necessa...   \n",
       "1  see the image for how this drawing develops st...   \n",
       "\n",
       "                                     text-embeddings  \n",
       "0  [0.01380640733987093, 0.0018019392155110836, 0...  \n",
       "1  [0.016886457800865173, 0.04798700660467148, 0....  "
      ]
     },
     "execution_count": 7,
     "metadata": {},
     "output_type": "execute_result"
    }
   ],
   "source": [
    "df = pd.read_csv('./data/embedded_100_wikihow.csv')\n",
    "df.head(2)"
   ]
  },
  {
   "cell_type": "markdown",
   "id": "6a36580c-632e-478b-8ba5-69ac5af9edaa",
   "metadata": {},
   "source": [
    "#### 2. Check the data types for each column"
   ]
  },
  {
   "cell_type": "code",
   "execution_count": 8,
   "id": "17b45c21-2485-42e0-ab65-e0db74b9d4ab",
   "metadata": {},
   "outputs": [
    {
     "data": {
      "text/plain": [
       "id                  int64\n",
       "summary            object\n",
       "title              object\n",
       "text               object\n",
       "text-embeddings    object\n",
       "dtype: object"
      ]
     },
     "execution_count": 8,
     "metadata": {},
     "output_type": "execute_result"
    }
   ],
   "source": [
    "df.dtypes"
   ]
  },
  {
   "cell_type": "markdown",
   "id": "fdefab41-208e-4eea-bc07-69b6ba749290",
   "metadata": {},
   "source": [
    "#### 3. change the id column from int to string as pinecone vector database accepts only strings and lists"
   ]
  },
  {
   "cell_type": "code",
   "execution_count": 9,
   "id": "9a1a4907-f8f6-42f1-ac78-d117fda72076",
   "metadata": {},
   "outputs": [
    {
     "data": {
      "text/plain": [
       "id                 object\n",
       "summary            object\n",
       "title              object\n",
       "text               object\n",
       "text-embeddings    object\n",
       "dtype: object"
      ]
     },
     "execution_count": 9,
     "metadata": {},
     "output_type": "execute_result"
    }
   ],
   "source": [
    "df['id'] = df['id'].apply(str)\n",
    "df.dtypes"
   ]
  },
  {
   "cell_type": "markdown",
   "id": "8c7dfc77-0b94-4668-8a27-55c0413864e9",
   "metadata": {},
   "source": [
    "#### 4. Change the data type of `text-embeddings` from `string` to `list`"
   ]
  },
  {
   "cell_type": "code",
   "execution_count": 10,
   "id": "af6e3033-66fc-4343-8055-eaf4629162cf",
   "metadata": {},
   "outputs": [],
   "source": [
    "# install the ast library by running pip install ast\n",
    "import ast\n",
    "\n",
    "df['text-embeddings'] = df['text-embeddings'].apply(ast.literal_eval)"
   ]
  },
  {
   "cell_type": "markdown",
   "id": "0dede72f-83a9-424e-8bce-b7acbe3fa842",
   "metadata": {},
   "source": [
    "#### 5. Prepare one sample row to upsert"
   ]
  },
  {
   "cell_type": "code",
   "execution_count": 15,
   "id": "f3976144-c10d-4519-b623-c34d8cc56077",
   "metadata": {},
   "outputs": [],
   "source": [
    "vector0 =   { \"id\": df.iloc[0]['id'], \n",
    "      \"values\" : df.iloc[0]['text-embeddings'], \n",
    "      \"metadata\": {\"title\": df.iloc[0]['title'], \"text\": df.iloc[0]['text'], \"summary\": df.iloc[0]['summary'] }\n",
    "    }"
   ]
  },
  {
   "cell_type": "markdown",
   "id": "87ddb03d-0990-4cdf-9b6c-515fc3bd0fc5",
   "metadata": {},
   "source": [
    "### Upsert to Pinecone"
   ]
  },
  {
   "cell_type": "markdown",
   "id": "53751ce4-6897-4a4d-b453-2ca535d40085",
   "metadata": {},
   "source": [
    "#### 1. Load the index (this assumes you have created an index in pinecone"
   ]
  },
  {
   "cell_type": "code",
   "execution_count": 29,
   "id": "573f0eea-110c-49e6-aa54-0b7b64798b4d",
   "metadata": {},
   "outputs": [],
   "source": [
    "from pinecone import Pinecone\n",
    "\n",
    "pc = Pinecone(api_key=PINECONE_API_KEY)\n",
    "pinecone_index = pc.Index(\"wikihow-1\")"
   ]
  },
  {
   "cell_type": "markdown",
   "id": "9db6a59b-755c-403c-80ea-0e40a1b49544",
   "metadata": {},
   "source": [
    "#### 2. Upsert a single row to test if the upsert works"
   ]
  },
  {
   "cell_type": "code",
   "execution_count": 30,
   "id": "3b7c19bb-7ed0-4232-b954-f95eb98f323b",
   "metadata": {},
   "outputs": [
    {
     "data": {
      "text/plain": [
       "{'upserted_count': 1}"
      ]
     },
     "execution_count": 30,
     "metadata": {},
     "output_type": "execute_result"
    }
   ],
   "source": [
    "pinecone_index.upsert(\n",
    "  vectors=[vector0]\n",
    ")"
   ]
  },
  {
   "cell_type": "markdown",
   "id": "5fb94781-2533-4371-883f-57944eb8ed01",
   "metadata": {},
   "source": [
    "#### 3. Now iterate over all rows and upsert to pinecone index"
   ]
  },
  {
   "cell_type": "code",
   "execution_count": 32,
   "id": "36d10e11-f548-4e68-9247-7d3f611acd9a",
   "metadata": {},
   "outputs": [],
   "source": [
    "for index, row in df.iterrows():\n",
    "    vector =   { \"id\": row['id'], \"values\" : row['text-embeddings'], \"metadata\": {\"title\": row['title'], \"text\": row['text'], \"summary\": row['summary'] }}\n",
    "    pinecone_index.upsert(vectors=[vector])"
   ]
  },
  {
   "cell_type": "markdown",
   "id": "2ae59140-6683-431f-92f4-4fcd323ef153",
   "metadata": {},
   "source": [
    "### Query Pinecone Data with a sample query"
   ]
  },
  {
   "cell_type": "markdown",
   "id": "7f797bf5-024e-44ab-b1e0-ef6fa34f8b82",
   "metadata": {},
   "source": [
    "#### 1. Embed the sample query with the OpenAI model"
   ]
  },
  {
   "cell_type": "code",
   "execution_count": 43,
   "id": "23928790-4d5c-4263-a834-9231b4246597",
   "metadata": {},
   "outputs": [],
   "source": [
    "sample_query = 'how to become artist'\n",
    "sample_query_embedding = get_embedding(sample_query)"
   ]
  },
  {
   "cell_type": "markdown",
   "id": "e3612f1f-8c53-4cf2-b5d9-19cd914de02f",
   "metadata": {},
   "source": [
    "#### 2. Query Pinecone with the sample query to retrive top 3 matching documents"
   ]
  },
  {
   "cell_type": "code",
   "execution_count": 45,
   "id": "a39a3775-4bdb-4730-9ed8-7259680596eb",
   "metadata": {},
   "outputs": [],
   "source": [
    "results = pinecone_index.query(\n",
    "  vector=sample_query_embedding,\n",
    "  top_k=3,\n",
    "  include_values=False,\n",
    "  include_metadata=True\n",
    ")"
   ]
  },
  {
   "cell_type": "code",
   "execution_count": 63,
   "id": "b520ba6a-9c14-4cb3-8321-e268bf1c392a",
   "metadata": {},
   "outputs": [
    {
     "name": "stdout",
     "output_type": "stream",
     "text": [
      "1  -  how to become an art investor \n",
      "\n",
      "Summary:  start with some experience or interest in art . understand the difference between art collectors , art investors and art speculators . figure out what you are willing to pay for art , before going to an auction house . pay attention to what schools of art are selling well , and which are down . focus art investments on fine art paintings , rather than decorative art . reach out to trusted auction houses and dealers when you are looking to buy art . buy your investment art when you feel confident of its worth , its price and its ability to grow in value . study how art is properly stored . have your art investments appraised occasionally . consider renting out your art investments . understand that selling an art investment can take time . \n",
      "\n",
      "Details: the best art investors do their research on the pieces of art that they buy , so someone with some education or interest in the art world is more likely to understand this niche market . as well as personal research , you will need to have contacts with people in the art world , such as auctioneers , gallery directors and dealers , who can give you good investment advice . you may confuse these three terms , if you are not careful . each of them has a slightly different goal in mind when looking to buy art . art collectors do not buy art for investment purposes . they buy it to decorate and display in their home . because they consider them to be an important part of their home or life , most art collectors have a hard time parting with pieces of their collection . while many collectors do end up selling some pieces of art , it may be done because of necessity . collectors often loan their works out to museums and occasionally donate them to museums upon their death . art investors seek to diversify their portfolio with an art investment . some investment firms put about two and a half to three percent of their investment money in art . they seek good advice and often buy paintings that are older and have been popular historically , such as paintings by the old masters . these investments are kept over decades , and sold off when the market is right , with the investor seeking to get a six to ten percent profit rise per year . these investments are also often made to be given as inheritance to future generations of the family . art investment is often undertaken by the very wealthy . art speculators try to invest in art that they believe will appreciate in value . they aim to buy art at a low price from budding artists in the beginning of their careers . then they hope to sell their work in 10 to 15 years when the artists are at the peak of their careers and people or collectors are willing to pay much more for their pieces . this is a type of investment that takes intimate involvement with the art world and liquidity in order to buy the art . art investments should be no more than a small part of your investment portfolio , along with stocks , bonds , new businesses and more . figure out what your range is before you begin to pick out potential pieces , and get advice from investors and art dealers . study the mei moses fine art index to get a firm grasp of the art market today . although they cannot predict what will be popular in the future , they can tell you what art tends to keep its value and be a low - risk and what art has a more volatile market value . while this is not an absolute rule to follow , paintings from successful artists tend to get better returns than sculpture and installation art . get all the information you can out of them before making a purchase . if you are going to buy at auction , be prepared to walk away if the price goes higher than your investment range . beware of art auctioneers or dealers that promise too high a return on paintings . in many ways , they are just like stock brokers and other financial investment firms , who may promise anything to get a sale . they should be found trustworthy before you buy anything , because ponzi schemes and art market bubbles are part of this investment landscape as well . if you have never bought art in an auction environment before , you may want to seek advice about how it is done properly . you should study the auction booklet before hand , learn about secret buyers and how prices can quickly inflate . most fine auction houses would be willing to teach you the basics if they see you as a serious investor . arrange for payment , shipping and insurance . each piece of art should be insured and catalogued as part of your estate . in order for an art investment to retain its value , it should be kept at low - humidity and avoid being marred . you may choose to hang it in your home , but you may want to get an art collectors advice about where to hang it and how to care for it . share this information with your children , if it is intended as an inheritance investment . they need to be well aware of how to take care of art , or they may lose money or ruin the painting entirely . as well as keeping tabs on the art world to understand the rise and falls of certain schools of art , an appraiser can tell you how your investment is maturing . they may clue you in on when you have reached your desired profit . if the art you buy does not fit in your home , and you will only be storing it , research banks , hotels and other institutions that rent fine art on a rotating basis . you may be able to demand thousands of dollars per year for your art to hang in another building . keep in mind you will need to make sure your art is covered by an insurance policy for loss or damage . make sure the renter provides insurance for your art . you should prepare a contract that stipulates the time allotted , the fee , the insurance and the shipment of your art . unless you employ an art dealer or auction house at the exact moment when the art is in high value , it can take years and thousands of dollars in fees to find the right buyer .\n",
      "---\n",
      "2  -  how to be an organized artist 1 \n",
      "\n",
      "Summary:  keep related supplies in the same area . make an effort to clean a dedicated workspace after every session . place loose supplies in large , clearly visible containers . use clotheslines and clips to hang sketches , photos , and reference material . use every inch of the room for storage , especially vertical space . use chalkboard paint to make space for drafting ideas right on the walls . purchase a label maker to make your organization strategy semi - permanent . make a habit of throwing out old , excess , or useless stuff each month . \n",
      "\n",
      "Details: if youre a photographer , keep all the necessary lens , cords , and batteries in the same quadrant of your home or studio . paints should be kept with brushes , cleaner , and canvas , print supplies should be by the ink , etc . make broader groups and areas for your supplies to make finding them easier , limiting your search to a much smaller area . some ideas include essential supplies area - - the things you use every day . inspiration and reference area . dedicated work area . infrequent or secondary supplies area , tucked out of the way . this doesnt mean cleaning the entire studio , it just means keeping the area immediately around the desk , easel , pottery wheel , etc . clean each night . discard trash or unnecessary materials and wipe down dirty surfaces . endeavor to leave the workspace in a way that you can sit down the next day and start working immediately , without having to do any work or tidying . even if the rest of your studio is a bit disorganized , an organized workspace will help you get down to business every time you want to make art . as visual people , a lot of artist clutter comes from a desire to keep track of supplies visually instead of tucked out of sight . by using jars , old glasses , vases , and cheap , clear plastic drawers , you can keep things in sight without leaving it strewn about haphazardly . some ideas , beyond those just mentioned , include canvas shoe racks on the back of the door wine racks with cups in each slot to hold penspencils . plastic restaurant squirt bottles for paint , pigment , etc . simply string up the wires across a wall or along the ceiling and use them to hold essential papers that you dont want to cut or ruin with tacks or tape . cheap and easy , this is also a good way to handle papers and ideas you touch regularly or need to pin up and down for inspiration . shelving is an artists best friend and is a cheap and easy way to get more room in your studio or art space . dont be afraid to get up high either , especially for infrequently used supplies . the upper reaches of the room are often the most under - utilized , but provide vital space for all your tools and materials . turning one wall into a chalkboard gives you a perfect space for ideas , sketches , and planning without requiring extra equipment or space . you can even use it for smaller areas . paint over jars or storage equipment , allowing you to relabel them with chalk as your needs change . a lot of disorganization comes when you keep moving the location of things , trying to optimize your space by reorganizing frequently . this usually has the opposite effect , leading to lost items and uncertainty when cleaning , but an afternoon with a label maker can solve everything . instead of spending all of your mental energy looking for or storing things , you can just follow the labels , freeing your mind to think about art . once a month , do a purge of your studio . if it isnt essential or part of a project , either throw it out or file it away for later . artists are constantly making new things , experimenting , and making a mess . this is a good thing , but only if you set aside time to declutter . it may not be fun at the moment , but it is a lot more fun than spending 30 minutes digging through junk to find the right paint or an old sketch . dont be sentimental here . if you havent used it in the last six months there is little chance youll use it in the next six months . toss it .\n",
      "---\n",
      "3  -  how to be an organized artist 3 \n",
      "\n",
      "Summary:  keep all of your past work organized and accessible . record all of your artistic contacts and connections in one place . log the costs of supplies needed for each project . find out how much it costs you to make and sell each piece . pay attention to what other , similar works of art are selling for . consider the cost of your time when pricing work . \n",
      "\n",
      "Details: when you finish a project , whether it sells or not , dont just stuff it away in a drawer . you never know when youll want to revisit and idea or , more excitingly , when interest in your current work will drive up interest in past projects . if you do electronic work , back it up every 3 - 6 months on a dedicated hard drive . there is nothing worse than an accident destroying all of your old projects . more than many industries , successful artists need to cultivate a diverse network of other artists , curators , instructors , and gallery assistants to be successful . you never know when someone will hit it big and provide a helping hand , or when youll have some work you want to place in a friends art show . dont leave meetings and connections up to chance - - organize and compile your contact information in once place for later . make notes of phone number email location role in the art world how you met or connected . if youre looking to make a living off art , you need to treat certain aspects of the process like a business . this , however , does not need to interfere with your creative process . simply holding on to your receipts and writing them down in one sheet is a great first step towards financial security and autonomy . you can often write off almost all of these receipts on your taxes , as they are private business expenses . keeping expenses organized isnt just about time , it is about saving money . if youre making the same or similar pieces each day , you can figure out how much each piece costs you to make them by dividing the cost in supplies by the number of pieces made . so , if 10 wood sculptures cost you 100 , each sculpture cost you 10 to make 10010  10 . this may seem trivial , but you need to have a complete picture of your finances if you hope to make money off your work . at the very least , ensure that you are not losing money on each piece . if you want an organized , productive artistic practice , you need to know about the trends around your work . keeping organized is about more than just your own studio , it is about understanding the art market youre a part of . peruse etsy , visit galleries and show openings , and follow art blogs and news to keep abreast of the latest developments and prices . while it doesnt have a dollar value , make sure you value your time as well as your materials . in the earlier example , dont forget that it cost more than just 10 to make the sculpture . your hours of work and experience are essential too , so dont sell the piece for 20 if it took you a week to make . while pricing your work is difficult , dont balk at the high prices you see other artists selling for - - not everyone can do what you do , and people are paying for your talent and experience . at the very least , consider what youd be paid if you used your time otherwise . twenty hours spent painting could be worth 15 an hour at another job . you should consider this missed money when pricing work . if you want to make art your living , you need to price the work high enough to take care of yourself . careful financial organization is essential to pulling this off .\n",
      "---\n"
     ]
    }
   ],
   "source": [
    "matches = results['matches']\n",
    "idx=1\n",
    "for row in matches:\n",
    "    \n",
    "    score=row['score']\n",
    "    metadata = row['metadata']\n",
    "    summary = metadata['summary']\n",
    "    title = metadata['title']\n",
    "    text = metadata['text']\n",
    "    print(idx,\" - \", title,\"\\n\\nSummary: \",summary,\"\\n\\nDetails:\",text)\n",
    "    print('---')\n",
    "    idx=idx+1\n",
    "    "
   ]
  },
  {
   "cell_type": "markdown",
   "id": "1c4c547a-d573-49a6-907b-9c3880cbe3a0",
   "metadata": {},
   "source": [
    "### Send the response to LLM to get a summarized response across the top matches"
   ]
  },
  {
   "cell_type": "markdown",
   "id": "943f0299-1e8f-4b05-9fac-0e620b3406cb",
   "metadata": {},
   "source": [
    "### 1. Prepare the context"
   ]
  },
  {
   "cell_type": "code",
   "execution_count": 65,
   "id": "fdbe4bf7-3444-4cb1-a297-1dd9638d5b7d",
   "metadata": {},
   "outputs": [
    {
     "name": "stdout",
     "output_type": "stream",
     "text": [
      "Answer the question based on the context below.\n",
      "\n",
      "Context:\n",
      "the best art investors do their research on the pieces of art that they buy , so someone with some education or interest in the art world is more likely to understand this niche market . as well as personal research , you will need to have contacts with people in the art world , such as auctioneers , gallery directors and dealers , who can give you good investment advice . you may confuse these three terms , if you are not careful . each of them has a slightly different goal in mind when looking to buy art . art collectors do not buy art for investment purposes . they buy it to decorate and display in their home . because they consider them to be an important part of their home or life , most art collectors have a hard time parting with pieces of their collection . while many collectors do end up selling some pieces of art , it may be done because of necessity . collectors often loan their works out to museums and occasionally donate them to museums upon their death . art investors seek to diversify their portfolio with an art investment . some investment firms put about two and a half to three percent of their investment money in art . they seek good advice and often buy paintings that are older and have been popular historically , such as paintings by the old masters . these investments are kept over decades , and sold off when the market is right , with the investor seeking to get a six to ten percent profit rise per year . these investments are also often made to be given as inheritance to future generations of the family . art investment is often undertaken by the very wealthy . art speculators try to invest in art that they believe will appreciate in value . they aim to buy art at a low price from budding artists in the beginning of their careers . then they hope to sell their work in 10 to 15 years when the artists are at the peak of their careers and people or collectors are willing to pay much more for their pieces . this is a type of investment that takes intimate involvement with the art world and liquidity in order to buy the art . art investments should be no more than a small part of your investment portfolio , along with stocks , bonds , new businesses and more . figure out what your range is before you begin to pick out potential pieces , and get advice from investors and art dealers . study the mei moses fine art index to get a firm grasp of the art market today . although they cannot predict what will be popular in the future , they can tell you what art tends to keep its value and be a low - risk and what art has a more volatile market value . while this is not an absolute rule to follow , paintings from successful artists tend to get better returns than sculpture and installation art . get all the information you can out of them before making a purchase . if you are going to buy at auction , be prepared to walk away if the price goes higher than your investment range . beware of art auctioneers or dealers that promise too high a return on paintings . in many ways , they are just like stock brokers and other financial investment firms , who may promise anything to get a sale . they should be found trustworthy before you buy anything , because ponzi schemes and art market bubbles are part of this investment landscape as well . if you have never bought art in an auction environment before , you may want to seek advice about how it is done properly . you should study the auction booklet before hand , learn about secret buyers and how prices can quickly inflate . most fine auction houses would be willing to teach you the basics if they see you as a serious investor . arrange for payment , shipping and insurance . each piece of art should be insured and catalogued as part of your estate . in order for an art investment to retain its value , it should be kept at low - humidity and avoid being marred . you may choose to hang it in your home , but you may want to get an art collectors advice about where to hang it and how to care for it . share this information with your children , if it is intended as an inheritance investment . they need to be well aware of how to take care of art , or they may lose money or ruin the painting entirely . as well as keeping tabs on the art world to understand the rise and falls of certain schools of art , an appraiser can tell you how your investment is maturing . they may clue you in on when you have reached your desired profit . if the art you buy does not fit in your home , and you will only be storing it , research banks , hotels and other institutions that rent fine art on a rotating basis . you may be able to demand thousands of dollars per year for your art to hang in another building . keep in mind you will need to make sure your art is covered by an insurance policy for loss or damage . make sure the renter provides insurance for your art . you should prepare a contract that stipulates the time allotted , the fee , the insurance and the shipment of your art . unless you employ an art dealer or auction house at the exact moment when the art is in high value , it can take years and thousands of dollars in fees to find the right buyer .\n",
      "\n",
      "---\n",
      "\n",
      "if youre a photographer , keep all the necessary lens , cords , and batteries in the same quadrant of your home or studio . paints should be kept with brushes , cleaner , and canvas , print supplies should be by the ink , etc . make broader groups and areas for your supplies to make finding them easier , limiting your search to a much smaller area . some ideas include essential supplies area - - the things you use every day . inspiration and reference area . dedicated work area . infrequent or secondary supplies area , tucked out of the way . this doesnt mean cleaning the entire studio , it just means keeping the area immediately around the desk , easel , pottery wheel , etc . clean each night . discard trash or unnecessary materials and wipe down dirty surfaces . endeavor to leave the workspace in a way that you can sit down the next day and start working immediately , without having to do any work or tidying . even if the rest of your studio is a bit disorganized , an organized workspace will help you get down to business every time you want to make art . as visual people , a lot of artist clutter comes from a desire to keep track of supplies visually instead of tucked out of sight . by using jars , old glasses , vases , and cheap , clear plastic drawers , you can keep things in sight without leaving it strewn about haphazardly . some ideas , beyond those just mentioned , include canvas shoe racks on the back of the door wine racks with cups in each slot to hold penspencils . plastic restaurant squirt bottles for paint , pigment , etc . simply string up the wires across a wall or along the ceiling and use them to hold essential papers that you dont want to cut or ruin with tacks or tape . cheap and easy , this is also a good way to handle papers and ideas you touch regularly or need to pin up and down for inspiration . shelving is an artists best friend and is a cheap and easy way to get more room in your studio or art space . dont be afraid to get up high either , especially for infrequently used supplies . the upper reaches of the room are often the most under - utilized , but provide vital space for all your tools and materials . turning one wall into a chalkboard gives you a perfect space for ideas , sketches , and planning without requiring extra equipment or space . you can even use it for smaller areas . paint over jars or storage equipment , allowing you to relabel them with chalk as your needs change . a lot of disorganization comes when you keep moving the location of things , trying to optimize your space by reorganizing frequently . this usually has the opposite effect , leading to lost items and uncertainty when cleaning , but an afternoon with a label maker can solve everything . instead of spending all of your mental energy looking for or storing things , you can just follow the labels , freeing your mind to think about art . once a month , do a purge of your studio . if it isnt essential or part of a project , either throw it out or file it away for later . artists are constantly making new things , experimenting , and making a mess . this is a good thing , but only if you set aside time to declutter . it may not be fun at the moment , but it is a lot more fun than spending 30 minutes digging through junk to find the right paint or an old sketch . dont be sentimental here . if you havent used it in the last six months there is little chance youll use it in the next six months . toss it .\n",
      "\n",
      "---\n",
      "\n",
      "when you finish a project , whether it sells or not , dont just stuff it away in a drawer . you never know when youll want to revisit and idea or , more excitingly , when interest in your current work will drive up interest in past projects . if you do electronic work , back it up every 3 - 6 months on a dedicated hard drive . there is nothing worse than an accident destroying all of your old projects . more than many industries , successful artists need to cultivate a diverse network of other artists , curators , instructors , and gallery assistants to be successful . you never know when someone will hit it big and provide a helping hand , or when youll have some work you want to place in a friends art show . dont leave meetings and connections up to chance - - organize and compile your contact information in once place for later . make notes of phone number email location role in the art world how you met or connected . if youre looking to make a living off art , you need to treat certain aspects of the process like a business . this , however , does not need to interfere with your creative process . simply holding on to your receipts and writing them down in one sheet is a great first step towards financial security and autonomy . you can often write off almost all of these receipts on your taxes , as they are private business expenses . keeping expenses organized isnt just about time , it is about saving money . if youre making the same or similar pieces each day , you can figure out how much each piece costs you to make them by dividing the cost in supplies by the number of pieces made . so , if 10 wood sculptures cost you 100 , each sculpture cost you 10 to make 10010  10 . this may seem trivial , but you need to have a complete picture of your finances if you hope to make money off your work . at the very least , ensure that you are not losing money on each piece . if you want an organized , productive artistic practice , you need to know about the trends around your work . keeping organized is about more than just your own studio , it is about understanding the art market youre a part of . peruse etsy , visit galleries and show openings , and follow art blogs and news to keep abreast of the latest developments and prices . while it doesnt have a dollar value , make sure you value your time as well as your materials . in the earlier example , dont forget that it cost more than just 10 to make the sculpture . your hours of work and experience are essential too , so dont sell the piece for 20 if it took you a week to make . while pricing your work is difficult , dont balk at the high prices you see other artists selling for - - not everyone can do what you do , and people are paying for your talent and experience . at the very least , consider what youd be paid if you used your time otherwise . twenty hours spent painting could be worth 15 an hour at another job . you should consider this missed money when pricing work . if you want to make art your living , you need to price the work high enough to take care of yourself . careful financial organization is essential to pulling this off .\n",
      "\n",
      "Question: how to become artist\n",
      "Answer:\n"
     ]
    }
   ],
   "source": [
    "contexts = [\n",
    "    x['metadata']['text'] for x in results['matches']\n",
    "]\n",
    "\n",
    "prompt_start = (\n",
    "    \"Answer the question based on the context below.\\n\\n\"+\n",
    "    \"Context:\\n\"\n",
    ")\n",
    "\n",
    "prompt_end = (\n",
    "    f\"\\n\\nQuestion: {sample_query}\\nAnswer:\"\n",
    ")\n",
    "\n",
    "prompt = (\n",
    "    prompt_start + \"\\n\\n---\\n\\n\".join(contexts) + \n",
    "    prompt_end\n",
    ")\n",
    "\n",
    "print(prompt)"
   ]
  },
  {
   "cell_type": "markdown",
   "id": "9c96c8b9-f1c2-4a88-9c0d-5645cd16ad16",
   "metadata": {},
   "source": [
    "#### 2. Get the summary from OpenAI"
   ]
  },
  {
   "cell_type": "code",
   "execution_count": 67,
   "id": "00f40709-0237-49cc-805b-f0b8674ef028",
   "metadata": {},
   "outputs": [
    {
     "name": "stdout",
     "output_type": "stream",
     "text": [
      "--------------------------------------------------------------------------------\n",
      " To become a successful artist, it is important to do thorough research on the art market and have contacts within the art world. It is also important to keep a well-organized workspace and to cultivate a diverse network of other artists, curators, and gallery assistants. Additionally, treating your art practice like a business and keeping track of expenses and pricing your work appropriately is crucial.\n"
     ]
    }
   ],
   "source": [
    "res = client.completions.create(\n",
    "    model=\"gpt-3.5-turbo-instruct\",\n",
    "    prompt=prompt,\n",
    "    temperature=0,\n",
    "    max_tokens=636,\n",
    "    top_p=1,\n",
    "    frequency_penalty=0,\n",
    "    presence_penalty=0,\n",
    "    stop=None\n",
    ")\n",
    "print('-' * 80)\n",
    "print(res.choices[0].text)"
   ]
  }
 ],
 "metadata": {
  "kernelspec": {
   "display_name": "Python 3 (ipykernel)",
   "language": "python",
   "name": "python3"
  },
  "language_info": {
   "codemirror_mode": {
    "name": "ipython",
    "version": 3
   },
   "file_extension": ".py",
   "mimetype": "text/x-python",
   "name": "python",
   "nbconvert_exporter": "python",
   "pygments_lexer": "ipython3",
   "version": "3.11.3"
  }
 },
 "nbformat": 4,
 "nbformat_minor": 5
}
